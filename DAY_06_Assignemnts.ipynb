{
 "cells": [
  {
   "cell_type": "markdown",
   "metadata": {},
   "source": [
    "# Question-01"
   ]
  },
  {
   "cell_type": "code",
   "execution_count": 30,
   "metadata": {},
   "outputs": [
    {
     "name": "stdout",
     "output_type": "stream",
     "text": [
      "['arun@infosys.com', 'kiran@honda.com', 'sowmya@tcs.com']\n",
      "infosys\n",
      "honda\n",
      "tcs\n"
     ]
    }
   ],
   "source": [
    "emails_list = [\"arun@infosys.com\",\"kiran@honda.com\",\"sowmya@tcs.com\"]\n",
    "print(emails_list)\n",
    "for i in range(len(emails_list)):\n",
    "    emailName_List= emails_list[i].split('@')\n",
    "    emailCompany_List= emailName_List[1].split('.')\n",
    "    print(emailCompany_List[0])"
   ]
  },
  {
   "cell_type": "markdown",
   "metadata": {},
   "source": [
    "# Question -02"
   ]
  },
  {
   "cell_type": "code",
   "execution_count": 35,
   "metadata": {},
   "outputs": [
    {
     "name": "stdout",
     "output_type": "stream",
     "text": [
      "['without', 'hello', 'bag', 'world']\n",
      "['bag', 'hello', 'without', 'world']\n"
     ]
    }
   ],
   "source": [
    "alpha_list = [\"without\",\"hello\",\"bag\",\"world\"]\n",
    "print(alpha_list1)\n",
    "sort_list = sorted(alpha_list)\n",
    "print(sort_list)"
   ]
  },
  {
   "cell_type": "markdown",
   "metadata": {},
   "source": [
    "# Question -04"
   ]
  },
  {
   "cell_type": "code",
   "execution_count": 46,
   "metadata": {
    "scrolled": false
   },
   "outputs": [
    {
     "name": "stdout",
     "output_type": "stream",
     "text": [
      "[1, 2, 4, 6, 3, 7, 8]\n",
      "[1, 2, 3, 4, 6, 7, 8]\n",
      "5\n"
     ]
    }
   ],
   "source": [
    "missing_list =[1,2,4,6,3,7,8]\n",
    "print(missing_list)\n",
    "missing_list.sort()\n",
    "print(missing_list)\n",
    "for i in range(1,9):\n",
    "    if(i not in missing_list):\n",
    "        print(i)      "
   ]
  },
  {
   "cell_type": "markdown",
   "metadata": {},
   "source": [
    "# Question -05"
   ]
  },
  {
   "cell_type": "code",
   "execution_count": 8,
   "metadata": {},
   "outputs": [
    {
     "name": "stdout",
     "output_type": "stream",
     "text": [
      "[12, 24, 35, 88, 120, 155]\n"
     ]
    }
   ],
   "source": [
    "numbers_list = [12,24,35,24,88,120,155,88,120,155]\n",
    "#print(numbers_list)\n",
    "numbers_list1 = []\n",
    "for i in numbers_list:\n",
    "    if i not in numbers_list1:\n",
    "        numbers_list1.append(i)\n",
    "print(numbers_list1)  "
   ]
  },
  {
   "cell_type": "markdown",
   "metadata": {},
   "source": [
    "# Question -3"
   ]
  },
  {
   "cell_type": "code",
   "execution_count": 9,
   "metadata": {},
   "outputs": [
    {
     "name": "stdout",
     "output_type": "stream",
     "text": [
      "{'cherry', 'apple', 'banana'}\n"
     ]
    }
   ],
   "source": [
    "#sets:- A set is a collection which is unordered and unindexed. In Python sets are written with curly brackets.\n",
    "exampleset = {\"apple\",\"banana\",\"cherry\"}\n",
    "print(exampleset)\n"
   ]
  },
  {
   "cell_type": "code",
   "execution_count": 10,
   "metadata": {},
   "outputs": [
    {
     "name": "stdout",
     "output_type": "stream",
     "text": [
      "cherry\n",
      "apple\n",
      "banana\n"
     ]
    }
   ],
   "source": [
    "#access sets:- You cannot access items in a set by referring to an index, since sets are unordered the items has no index.\n",
    "exampleset = {\"apple\",\"banana\",\"cherry\"}\n",
    "for x in exampleset:\n",
    "    print(x)"
   ]
  },
  {
   "cell_type": "code",
   "execution_count": 11,
   "metadata": {},
   "outputs": [
    {
     "name": "stdout",
     "output_type": "stream",
     "text": [
      "{'cherry', 'orange', 'apple', 'banana'}\n"
     ]
    }
   ],
   "source": [
    "#Add items:-To add one item to a set use the add() method.\n",
    "\n",
    "exampleset = {\"apple\",\"banana\",\"cherry\"}\n",
    "\n",
    "exampleset.add(\"orange\")\n",
    "\n",
    "print(exampleset)"
   ]
  },
  {
   "cell_type": "code",
   "execution_count": 12,
   "metadata": {},
   "outputs": [
    {
     "name": "stdout",
     "output_type": "stream",
     "text": [
      "3\n"
     ]
    }
   ],
   "source": [
    "#Get the length of a set:-To determine how many items a set has, use the len() method.\n",
    "exampleset = {\"apple\",\"banana\",\"cherry\"}\n",
    "print(len(exampleset))"
   ]
  },
  {
   "cell_type": "code",
   "execution_count": null,
   "metadata": {},
   "outputs": [],
   "source": []
  }
 ],
 "metadata": {
  "kernelspec": {
   "display_name": "Python 3",
   "language": "python",
   "name": "python3"
  },
  "language_info": {
   "codemirror_mode": {
    "name": "ipython",
    "version": 3
   },
   "file_extension": ".py",
   "mimetype": "text/x-python",
   "name": "python",
   "nbconvert_exporter": "python",
   "pygments_lexer": "ipython3",
   "version": "3.7.6"
  }
 },
 "nbformat": 4,
 "nbformat_minor": 4
}
